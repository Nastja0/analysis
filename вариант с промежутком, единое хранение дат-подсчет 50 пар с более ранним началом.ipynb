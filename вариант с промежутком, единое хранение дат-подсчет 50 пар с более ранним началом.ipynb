version https://git-lfs.github.com/spec/v1
oid sha256:c75e16a3623dc279436d48b198137d9d8c2479cb3297054861e2f3edf7d93602
size 81878926
